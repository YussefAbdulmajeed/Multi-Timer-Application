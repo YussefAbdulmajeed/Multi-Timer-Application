{
 "cells": [
  {
   "cell_type": "markdown",
   "metadata": {},
   "source": [
    "Important Libraries"
   ]
  },
  {
   "cell_type": "code",
   "execution_count": 1,
   "metadata": {},
   "outputs": [
    {
     "name": "stdout",
     "output_type": "stream",
     "text": [
      "pygame 2.5.2 (SDL 2.28.3, Python 3.11.5)\n",
      "Hello from the pygame community. https://www.pygame.org/contribute.html\n"
     ]
    }
   ],
   "source": [
    "import tkinter as tk\n",
    "from tkinter import ttk\n",
    "from tkinter import colorchooser\n",
    "import threading\n",
    "from threading import Thread\n",
    "import time\n",
    "import pygame  #playsound library made an error so we use this lib for handling multimedia (play sound here)"
   ]
  },
  {
   "cell_type": "markdown",
   "metadata": {},
   "source": [
    "Global Variables"
   ]
  },
  {
   "cell_type": "code",
   "execution_count": 2,
   "metadata": {},
   "outputs": [],
   "source": [
    "timers = []   #list to store multiple timer instances\n",
    "global_sound_enabled = True #Default Timer Sound Effect"
   ]
  },
  {
   "cell_type": "markdown",
   "metadata": {},
   "source": [
    "Choose Color"
   ]
  },
  {
   "cell_type": "code",
   "execution_count": 3,
   "metadata": {},
   "outputs": [],
   "source": [
    "def choose_color(timer):\n",
    "    color = colorchooser.askcolor()[1]\n",
    "    if color:\n",
    "        timer[\"frame\"].config(bg=color)\n",
    "        timer[\"timer_label\"].config(bg=color)"
   ]
  },
  {
   "cell_type": "markdown",
   "metadata": {},
   "source": [
    "Complete Notification"
   ]
  },
  {
   "cell_type": "code",
   "execution_count": 4,
   "metadata": {},
   "outputs": [],
   "source": [
    "def notify_completion():\n",
    "    pygame.mixer.music.load(r\"D:\\Computer Science\\collage\\Level 4\\1\\parallel\\New folder\\alarm.mp3\")\n",
    "    pygame.mixer.music.play()\n",
    "    time.sleep(1)\n",
    "    all_threads_len = threading.active_count()\n",
    "    if all_threads_len > 1:\n",
    "        pygame.mixer.music.load(r\"D:\\Computer Science\\collage\\Level 4\\1\\parallel\\New folder\\timer.mp3\")"
   ]
  },
  {
   "cell_type": "markdown",
   "metadata": {},
   "source": [
    "Play Timer Sound Effect"
   ]
  },
  {
   "cell_type": "code",
   "execution_count": null,
   "metadata": {},
   "outputs": [],
   "source": []
  },
  {
   "cell_type": "code",
   "execution_count": 5,
   "metadata": {},
   "outputs": [],
   "source": [
    "def play_timer_sound(timer):\n",
    "    if timer[\"sound_enabled\"].get():\n",
    "        pygame.mixer.music.load(r\"D:\\Computer Science\\collage\\Level 4\\1\\parallel\\New folder\\timer.mp3\")\n",
    "        while timer[\"running\"]:\n",
    "            pygame.mixer.music.play()\n",
    "            time.sleep(1)"
   ]
  },
  {
   "cell_type": "markdown",
   "metadata": {},
   "source": [
    "Run Timer"
   ]
  },
  {
   "cell_type": "code",
   "execution_count": 6,
   "metadata": {},
   "outputs": [],
   "source": [
    "def run_timer(timer):\n",
    "    sound_thread = Thread(target=play_timer_sound, args=(timer,), daemon=True)\n",
    "    sound_thread.start()\n",
    "    while timer[\"remaining_time\"] > 0 and timer[\"running\"]:\n",
    "        hours, remainder = divmod(timer[\"remaining_time\"], 3600)\n",
    "        minutes, seconds = divmod(remainder, 60)\n",
    "        timer_format = f\"{hours:02}:{minutes:02}:{seconds:02}\"\n",
    "        timer[\"timer_label\"].config(text=timer_format)\n",
    "        timer[\"remaining_time\"] -= 1\n",
    "        time.sleep(1)\n",
    "\n",
    "    if timer[\"remaining_time\"] == 0:\n",
    "        timer[\"running\"] = False\n",
    "        timer[\"timer_label\"].config(text=\"Time's Up!\")\n",
    "        notify_completion()"
   ]
  },
  {
   "cell_type": "markdown",
   "metadata": {},
   "source": [
    "Pause & Resume Timer"
   ]
  },
  {
   "cell_type": "code",
   "execution_count": 7,
   "metadata": {},
   "outputs": [],
   "source": [
    "def pause_timer(timer, pause_button):\n",
    "    if timer[\"remaining_time\"] > 0:\n",
    "        timer[\"running\"] = False\n",
    "        pause_button.config(text=\"Resume\", bg=\"#fcfe82\", command=lambda: resume_timer(timer, pause_button))\n",
    "        \n",
    "def resume_timer(timer, pause_button):\n",
    "    if timer[\"remaining_time\"] > 0:\n",
    "        timer[\"running\"] = True\n",
    "        pause_button.config(text=\"Pause\", bg=\"yellow\", command=lambda: pause_timer(timer, pause_button))\n",
    "        run_thread = Thread(target=run_timer, args=(timer,), daemon=True)\n",
    "        run_thread.start()"
   ]
  },
  {
   "cell_type": "markdown",
   "metadata": {},
   "source": [
    "Start Timer"
   ]
  },
  {
   "cell_type": "code",
   "execution_count": 8,
   "metadata": {},
   "outputs": [],
   "source": [
    "def start_timer(timer, pause_button):\n",
    "    if not timer[\"running\"]:\n",
    "        if timer[\"remaining_time\"] == 0:  \n",
    "            hours = timer[\"enter_hours\"].get()\n",
    "            minutes = timer[\"enter_minutes\"].get()\n",
    "            seconds = timer[\"enter_seconds\"].get()\n",
    "\n",
    "            if not hours.isdigit() or not minutes.isdigit() or not seconds.isdigit():\n",
    "                raise ValueError(\"Please enter valid numeric values.\")\n",
    "\n",
    "            hours = int(hours)\n",
    "            minutes = int(minutes)\n",
    "            seconds = int(seconds)\n",
    "\n",
    "            timer[\"remaining_time\"] = hours * 3600 + minutes * 60 + seconds\n",
    "\n",
    "            if timer[\"remaining_time\"] <= 0:\n",
    "                raise ValueError(\"Time must be greater than zero.\")\n",
    "\n",
    "        timer[\"running\"] = True\n",
    "        pause_button.config(text=\"Pause\", bg=\"yellow\", command=lambda: pause_timer(timer, pause_button))\n",
    "        run_thread = Thread(target=run_timer, args=(timer,), daemon=True)\n",
    "        run_thread.start()"
   ]
  },
  {
   "cell_type": "markdown",
   "metadata": {},
   "source": [
    "Reset Timer"
   ]
  },
  {
   "cell_type": "code",
   "execution_count": 9,
   "metadata": {},
   "outputs": [],
   "source": [
    "def reset_timer(timer):\n",
    "    timer[\"running\"] = False\n",
    "    timer[\"timer_label\"].config(text=\"00:00:00\")\n",
    "    for entry in [timer[\"enter_hours\"], timer[\"enter_minutes\"], timer[\"enter_seconds\"]]:\n",
    "        entry.delete(0, tk.END)\n",
    "        entry.insert(0, \"0\")"
   ]
  },
  {
   "cell_type": "markdown",
   "metadata": {},
   "source": [
    "Delete Timer"
   ]
  },
  {
   "cell_type": "code",
   "execution_count": 10,
   "metadata": {},
   "outputs": [],
   "source": [
    "def delete_timer(timer):\n",
    "    timer[\"running\"] = False \n",
    "    timer[\"frame\"].destroy() \n",
    "    timers.remove(timer)  "
   ]
  },
  {
   "cell_type": "markdown",
   "metadata": {},
   "source": [
    "Add Timer "
   ]
  },
  {
   "cell_type": "code",
   "execution_count": 11,
   "metadata": {},
   "outputs": [],
   "source": [
    "def add_timer(content_frame):\n",
    "    timer_frame = tk.Frame(content_frame, bg=\"white\", borderwidth=2, relief=\"groove\")\n",
    "    timer_frame.pack(pady=10, padx=25, fill=\"x\", expand=True)\n",
    "\n",
    "    timer = {\n",
    "        \"frame\": timer_frame,\n",
    "        \"running\": False,\n",
    "        \"remaining_time\": 0,\n",
    "        \"sound_enabled\": tk.BooleanVar(value=True),\n",
    "    }\n",
    "\n",
    "    tk.Label(timer_frame, text=\"Timer Name:\", font=(\"Arial\", 14)).grid(row=0, column=0, padx=10)\n",
    "    tk.Entry(timer_frame, font=(\"Arial\", 14), width=26).grid(row=0, column=1, padx=5)\n",
    "\n",
    "    tk.Label(timer_frame, text=\"Duration (h:m:s):\", font=(\"Arial\", 14)).grid(row=0, column=2, padx=5)\n",
    "\n",
    "    timer[\"enter_hours\"] = tk.Entry(timer_frame, font=(\"Arial\", 14), width=4)\n",
    "    timer[\"enter_hours\"].insert(0, \"0\")\n",
    "    timer[\"enter_hours\"].grid(row=0, column=3, padx=5)\n",
    "\n",
    "    timer[\"enter_minutes\"] = tk.Entry(timer_frame, font=(\"Arial\", 14), width=4)\n",
    "    timer[\"enter_minutes\"].insert(0, \"0\")\n",
    "    timer[\"enter_minutes\"].grid(row=0, column=4, padx=5)\n",
    "\n",
    "    timer[\"enter_seconds\"] = tk.Entry(timer_frame, font=(\"Arial\", 14), width=4)\n",
    "    timer[\"enter_seconds\"].insert(0, \"0\")\n",
    "    timer[\"enter_seconds\"].grid(row=0, column=5, padx=5)\n",
    "\n",
    "    tk.Checkbutton(timer_frame, text=\"Enable Sound\", bg=\"#d4d6fa\", font=(\"Arial\", 10), variable=timer[\"sound_enabled\"]).grid(row=0, column=6, padx=7, pady=5)\n",
    "\n",
    "    tk.Button(timer_frame, text=\"Choose Color\", bg=\"#deccfc\",font=(\"Arial\", 10), command=lambda: choose_color(timer)).grid(row=0, column=7, padx=7)\n",
    "\n",
    "    tk.Button(timer_frame, text=\"Start\",font=(\"Arial\", 10), command=lambda: start_timer(timer, pause_button), bg=\"lightgreen\").grid(row=0, column=8, padx=7)\n",
    "\n",
    "    pause_button = tk.Button(timer_frame, text=\"Pause\",font=(\"Arial\", 10), bg=\"yellow\")\n",
    "    pause_button.grid(row=0, column=9, padx=7)\n",
    "\n",
    "    tk.Button(timer_frame, text=\"Reset\",font=(\"Arial\", 10), command=lambda: reset_timer(timer), bg=\"red\").grid(row=0, column=10, padx=7)\n",
    "\n",
    "    tk.Button(timer_frame, text=\"Delete\",font=(\"Arial\", 10), command=lambda: delete_timer(timer), bg=\"gray\").grid(row=0, column=11, padx=7)\n",
    "\n",
    "\n",
    "    timer[\"timer_label\"] = tk.Label(timer_frame, text=\"00:00:00\", font=(\"Arial\", 18), bg=\"white\")\n",
    "    timer[\"timer_label\"].grid(row=1, column=0, columnspan=12, pady=10)\n",
    "\n",
    "    timers.append(timer)\n"
   ]
  },
  {
   "cell_type": "markdown",
   "metadata": {},
   "source": [
    "Main Application"
   ]
  },
  {
   "cell_type": "code",
   "execution_count": 12,
   "metadata": {},
   "outputs": [],
   "source": [
    "if __name__ == \"__main__\":\n",
    "    root = tk.Tk()\n",
    "    root.title(\"Multi-Timer Application\")\n",
    "    root.geometry(\"800x600\")\n",
    "    pygame.mixer.init()\n",
    "\n",
    "    \n",
    "    canvas = tk.Canvas(root)\n",
    "    scrollbar = ttk.Scrollbar(root, orient=\"vertical\", command=canvas.yview)\n",
    "    canvas.configure(yscrollcommand=scrollbar.set)\n",
    "\n",
    "    canvas.pack(side=\"left\", fill=\"both\", expand=True)\n",
    "    scrollbar.pack(side=\"right\", fill=\"y\")\n",
    "\n",
    "    content_frame = ttk.Frame(canvas)\n",
    "    \n",
    "    screen_width = root.winfo_screenwidth()\n",
    "\n",
    "    canvas.create_window((0, 0), window=content_frame, anchor=\"nw\", width=screen_width)\n",
    "    \n",
    "    add_timer_button = tk.Button(canvas, text=\"Add Timer\", command=lambda: add_timer(content_frame), bg=\"lightblue\", font=(\"Arial\", 18))\n",
    "    add_timer_button.pack(side=tk.BOTTOM , pady=20)\n",
    "    \n",
    "    # To resize scroll region when I add many timers\n",
    "    def resize_canvas(event):\n",
    "        canvas.configure(scrollregion=canvas.bbox(\"all\"))\n",
    "\n",
    "    content_frame.bind(\"<Configure>\", resize_canvas)\n",
    "\n",
    "    root.mainloop()"
   ]
  },
  {
   "cell_type": "code",
   "execution_count": null,
   "metadata": {},
   "outputs": [],
   "source": []
  }
 ],
 "metadata": {
  "kernelspec": {
   "display_name": "base",
   "language": "python",
   "name": "python3"
  },
  "language_info": {
   "codemirror_mode": {
    "name": "ipython",
    "version": 3
   },
   "file_extension": ".py",
   "mimetype": "text/x-python",
   "name": "python",
   "nbconvert_exporter": "python",
   "pygments_lexer": "ipython3",
   "version": "3.11.5"
  },
  "polyglot_notebook": {
   "kernelInfo": {
    "defaultKernelName": "csharp",
    "items": [
     {
      "aliases": [],
      "name": "csharp"
     }
    ]
   }
  }
 },
 "nbformat": 4,
 "nbformat_minor": 2
}
